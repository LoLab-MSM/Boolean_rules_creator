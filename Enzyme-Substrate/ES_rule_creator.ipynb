{
 "cells": [
  {
   "cell_type": "markdown",
   "metadata": {},
   "source": [
    "## Ezyme-Subtrate Kinetics Rule Creator"
   ]
  },
  {
   "cell_type": "markdown",
   "metadata": {},
   "source": [
    "\n",
    "This notebook uses the Boolean_rules_creator tool available to generate\n",
    "rules for a boolean network describing Michaelis-Menten enzyme-substrate kinetics. For more information on the tool and installation instructions, view the GitHub page at https://github.com/LoLab-VU/Boolean_rules_creator .\n",
    "\n",
    ">More details on the algorithm and a description of the model are available in the preprint at https://www.biorxiv.org/content/10.1101/2020.12.15.422874v1.full (Prugger et. al. 2020).\n",
    "\n",
    "### Importing libraries\n"
   ]
  },
  {
   "cell_type": "code",
   "execution_count": 1,
   "metadata": {},
   "outputs": [],
   "source": [
    "from rule_creator import creating_rules\n",
    "import json\n",
    "import sympy\n",
    "from sympy.logic.boolalg import Xor\n",
    "from sympy import symbols"
   ]
  },
  {
   "cell_type": "markdown",
   "metadata": {},
   "source": [
    "### Loading the input file\n",
    "\n",
    "For the MM model, there is only one possibly steady state outcome, so the Boolean ruleset can be generation without optimization. The list  In this example, only the rule_creator function is used to recreate the forward, backwards, and expert-guided rulesets.\n",
    "\n",
    "The input file for this model is 'MM_steady_states.json', which contains the possible initial boolean states for the four species: Enzyme (EN), Substrate (S), Enzyme-Substrate complex (ES), and Product (P). For this script, these states are always referenced in this order."
   ]
  },
  {
   "cell_type": "code",
   "execution_count": 2,
   "metadata": {},
   "outputs": [],
   "source": [
    "fn = 'ES_steady_states.json'\n",
    "En, Su, ES, Pr = symbols('En Su ES Pr')\n",
    "symbols_list = ['En', 'Su', 'ES', 'Pr']"
   ]
  },
  {
   "cell_type": "markdown",
   "metadata": {},
   "source": [
    "The input file contains pairs of intial and steady states followed by the frequency\n",
    "with which the intial state leads to that final state. "
   ]
  },
  {
   "cell_type": "code",
   "execution_count": 3,
   "metadata": {},
   "outputs": [
    {
     "name": "stdout",
     "output_type": "stream",
     "text": [
      "dict_items([('[0, 0, 0, 0]', [[[0, 0, 0, 0], 100]]), ('[0, 0, 0, 1]', [[[0, 0, 0, 1], 100]]), ('[0, 0, 1, 0]', [[[1, 0, 0, 1], 100]]), ('[0, 0, 1, 1]', [[[1, 0, 0, 1], 100]]), ('[0, 1, 0, 0]', [[[0, 1, 0, 0], 100]]), ('[0, 1, 0, 1]', [[[0, 1, 0, 1], 100]]), ('[0, 1, 1, 0]', [[[1, 0, 0, 1], 100]]), ('[0, 1, 1, 1]', [[[1, 0, 0, 1], 100]]), ('[1, 0, 0, 0]', [[[1, 0, 0, 0], 100]]), ('[1, 0, 0, 1]', [[[1, 0, 0, 1], 100]]), ('[1, 0, 1, 0]', [[[1, 0, 0, 1], 100]]), ('[1, 0, 1, 1]', [[[1, 0, 0, 1], 100]]), ('[1, 1, 0, 0]', [[[1, 0, 0, 1], 100]]), ('[1, 1, 0, 1]', [[[1, 0, 0, 1], 100]]), ('[1, 1, 1, 0]', [[[1, 0, 0, 1], 100]]), ('[1, 1, 1, 1]', [[[1, 0, 0, 1], 100]])])\n"
     ]
    }
   ],
   "source": [
    "with open(fn) as fs:\n",
    "    data = json.load(fs)\n",
    "    fs.close()\n",
    "print(data.items())"
   ]
  },
  {
   "cell_type": "markdown",
   "metadata": {},
   "source": [
    "### Generating network rules\n",
    "\n",
    "The function creating_rules will take these input states and generate a list of rules which contain\n",
    "the possible transitions to describe the boolean network. For this model, the first three states, as seen below, can only progress to their respective steady states due to the lack of reactive species. For all other intial states the only possible steady state is [1,0,0,1]."
   ]
  },
  {
   "cell_type": "code",
   "execution_count": 4,
   "metadata": {},
   "outputs": [
    {
     "name": "stdout",
     "output_type": "stream",
     "text": [
      "\t\n",
      "data:  {'[0, 0, 0, 0]': [[[0, 0, 0, 0], 100]], '[0, 0, 0, 1]': [[[0, 0, 0, 1], 100]], '[0, 0, 1, 0]': [[[1, 0, 0, 1], 100]], '[0, 0, 1, 1]': [[[1, 0, 0, 1], 100]], '[0, 1, 0, 0]': [[[0, 1, 0, 0], 100]], '[0, 1, 0, 1]': [[[0, 1, 0, 1], 100]], '[0, 1, 1, 0]': [[[1, 0, 0, 1], 100]], '[0, 1, 1, 1]': [[[1, 0, 0, 1], 100]], '[1, 0, 0, 0]': [[[1, 0, 0, 0], 100]], '[1, 0, 0, 1]': [[[1, 0, 0, 1], 100]], '[1, 0, 1, 0]': [[[1, 0, 0, 1], 100]], '[1, 0, 1, 1]': [[[1, 0, 0, 1], 100]], '[1, 1, 0, 0]': [[[1, 0, 0, 1], 100]], '[1, 1, 0, 1]': [[[1, 0, 0, 1], 100]], '[1, 1, 1, 0]': [[[1, 0, 0, 1], 100]], '[1, 1, 1, 1]': [[[1, 0, 0, 1], 100]]}\n",
      "\t\n",
      "steady state: [0, 0, 0, 0]\n",
      "\t(0, 0, 0, 0) <- 100\n",
      "\t\n",
      "\t\n",
      "steady state: [0, 0, 0, 1]\n",
      "\t(0, 0, 0, 1) <- 100\n",
      "\t\n",
      "\t\n",
      "steady state: [1, 0, 0, 1]\n",
      "\t(0, 0, 1, 0) <- 100\n",
      "\t(0, 0, 1, 1) <- 100\n",
      "\t(0, 1, 1, 0) <- 100\n",
      "\t(0, 1, 1, 1) <- 100\n",
      "\t(1, 0, 0, 1) <- 100\n",
      "\t(1, 0, 1, 0) <- 100\n",
      "\t(1, 0, 1, 1) <- 100\n",
      "\t(1, 1, 0, 0) <- 100\n",
      "\t(1, 1, 0, 1) <- 100\n",
      "\t(1, 1, 1, 0) <- 100\n",
      "\t(1, 1, 1, 1) <- 100\n",
      "\t\n",
      "\t\n",
      "steady state: [0, 1, 0, 0]\n",
      "\t(0, 1, 0, 0) <- 100\n",
      "\t\n",
      "\t\n",
      "steady state: [0, 1, 0, 1]\n",
      "\t(0, 1, 0, 1) <- 100\n",
      "\t\n",
      "\t\n",
      "steady state: [1, 0, 0, 0]\n",
      "\t(1, 0, 0, 0) <- 100\n",
      "\t\n",
      "\t\t\n",
      "============================\n",
      "Start creating SSinfo object\n",
      "\t\n",
      "Populating the target entries.\n",
      "Finished creating SSInfo object.\n",
      "================================\n",
      "create rules \n",
      "\n",
      "16 4\n",
      "tgts: {} 1 10 4 0 []\n",
      "0\n",
      "[3, 2, 4, 3, 2, 1, 2, 1, 3, 2]\n",
      "eliminate_transitions calling\n",
      "cri 0.0023233890533447266 0.004352092742919922\n",
      "rk took: 0.010189533233642578\n",
      "[[(0, 1, 1, 1), (0, 1, 1, 0), (0, 0, 1, 0), (0, 0, 1, 1)], [(1, 1, 0, 1), (1, 1, 1, 0), (0, 1, 1, 1), (1, 1, 1, 1), (0, 1, 1, 0)], [(1, 0, 1, 1), (1, 1, 1, 0), (1, 1, 1, 1)], [(1, 1, 1, 0), (1, 0, 1, 0), (1, 1, 0, 0), (0, 0, 1, 0), (0, 1, 1, 0)]]\n",
      "rule  0 4\n",
      "rule  1 5\n",
      "rule  2 3\n",
      "rule  3 5\n",
      "1: En* = Xor((( not En and Su and ES and Pr) or ( not En and Su and ES and  not Pr) or ( not En and  not Su and ES and  not Pr) or ( not En and  not Su and ES and Pr)), En)\n",
      "1: Su* = Xor(((En and Su and  not ES and Pr) or (En and Su and ES and  not Pr) or ( not En and Su and ES and Pr) or (En and Su and ES and Pr) or ( not En and Su and ES and  not Pr)), Su)\n",
      "1: ES* = Xor(((En and  not Su and ES and Pr) or (En and Su and ES and  not Pr) or (En and Su and ES and Pr)), ES)\n",
      "1: Pr* = Xor(((En and Su and ES and  not Pr) or (En and  not Su and ES and  not Pr) or (En and Su and  not ES and  not Pr) or ( not En and  not Su and ES and  not Pr) or ( not En and Su and ES and  not Pr)), Pr)\n",
      "    if(k==0)\n",
      "        return Xor((( !x[0] && x[1] && x[2] && x[3]) || ( !x[0] && x[1] && x[2] &&  !x[3]) || ( !x[0] &&  !x[1] && x[2] &&  !x[3]) || ( !x[0] &&  !x[1] && x[2] && x[3])), x[0]);\n",
      "    if(k==1)\n",
      "        return Xor(((x[0] && x[1] &&  !x[2] && x[3]) || (x[0] && x[1] && x[2] &&  !x[3]) || ( !x[0] && x[1] && x[2] && x[3]) || (x[0] && x[1] && x[2] && x[3]) || ( !x[0] && x[1] && x[2] &&  !x[3])), x[1]);\n",
      "    if(k==2)\n",
      "        return Xor(((x[0] &&  !x[1] && x[2] && x[3]) || (x[0] && x[1] && x[2] &&  !x[3]) || (x[0] && x[1] && x[2] && x[3])), x[2]);\n",
      "    if(k==3)\n",
      "        return Xor(((x[0] && x[1] && x[2] &&  !x[3]) || (x[0] &&  !x[1] && x[2] &&  !x[3]) || (x[0] && x[1] &&  !x[2] &&  !x[3]) || ( !x[0] &&  !x[1] && x[2] &&  !x[3]) || ( !x[0] && x[1] && x[2] &&  !x[3])), x[3]);\n",
      "\n",
      "generating rules took  0.0251312255859375\n"
     ]
    }
   ],
   "source": [
    "str_rules, simple_rulelist, fs_cpp_name = creating_rules(fn,symbols_list,backwardpaths=0)"
   ]
  },
  {
   "cell_type": "markdown",
   "metadata": {},
   "source": [
    "Looking at the resulting rule list:"
   ]
  },
  {
   "cell_type": "code",
   "execution_count": 5,
   "metadata": {},
   "outputs": [
    {
     "name": "stdout",
     "output_type": "stream",
     "text": [
      "The string rules describe the full ruleset in formal logical terms, showing what states can activate that species.\n",
      "\n",
      "String rules:\n",
      "1: En* = Xor((( not En and Su and ES and Pr) or ( not En and Su and ES and  not Pr) or ( not En and  not Su and ES and  not Pr) or ( not En and  not Su and ES and Pr)), En)\n",
      "1: Su* = Xor(((En and Su and  not ES and Pr) or (En and Su and ES and  not Pr) or ( not En and Su and ES and Pr) or (En and Su and ES and Pr) or ( not En and Su and ES and  not Pr)), Su)\n",
      "1: ES* = Xor(((En and  not Su and ES and Pr) or (En and Su and ES and  not Pr) or (En and Su and ES and Pr)), ES)\n",
      "1: Pr* = Xor(((En and Su and ES and  not Pr) or (En and  not Su and ES and  not Pr) or (En and Su and  not ES and  not Pr) or ( not En and  not Su and ES and  not Pr) or ( not En and Su and ES and  not Pr)), Pr)\n",
      "\n",
      "The simple rulelist show the string rules in their boolean form; this conveys the same information as above.\n",
      "\n",
      "Simple rulelist\n",
      "[[(0, 1, 1, 1), (0, 1, 1, 0), (0, 0, 1, 0), (0, 0, 1, 1)], [(1, 1, 0, 1), (1, 1, 1, 0), (0, 1, 1, 1), (1, 1, 1, 1), (0, 1, 1, 0)], [(1, 0, 1, 1), (1, 1, 1, 0), (1, 1, 1, 1)], [(1, 1, 1, 0), (1, 0, 1, 0), (1, 1, 0, 0), (0, 0, 1, 0), (0, 1, 1, 0)]]\n"
     ]
    }
   ],
   "source": [
    "print('The string rules describe the full ruleset in formal logical terms, showing what states can activate that species.')\n",
    "print('\\nString rules:')\n",
    "print(str_rules)\n",
    "\n",
    "print('The simple rulelist show the string rules in their boolean form; this conveys the same information as above.')\n",
    "print('\\nSimple rulelist')\n",
    "print(simple_rulelist)"
   ]
  },
  {
   "cell_type": "markdown",
   "metadata": {},
   "source": [
    "\n",
    "With the input variable backwardspath set as 1, we generate the network with all possible backwards paths available\n",
    "for transitions. The simple rulelist output describes the resulting network. The example below (from Figure 3) shows the network formed with the initial state [1,1,0,0].\n",
    "\n",
    "\n",
    "![alt text](bw_1100_4.png \"ES-B Network\")"
   ]
  },
  {
   "cell_type": "markdown",
   "metadata": {},
   "source": [
    "### Generating simplified rules from manuscript"
   ]
  },
  {
   "cell_type": "markdown",
   "metadata": {},
   "source": [
    "In order to simplify the rules further using Sympy, the string rules must first be converted to formal logic notation"
   ]
  },
  {
   "cell_type": "code",
   "execution_count": 6,
   "metadata": {},
   "outputs": [
    {
     "name": "stdout",
     "output_type": "stream",
     "text": [
      "['Xor((( ~En & Su & ES & Pr) | ( ~En & Su & ES &  ~Pr) | ( ~En &  ~Su & ES &  ~Pr) | ( ~En &  ~Su & ES & Pr)), En)', 'Xor(((En & Su &  ~ES & Pr) | (En & Su & ES &  ~Pr) | ( ~En & Su & ES & Pr) | (En & Su & ES & Pr) | ( ~En & Su & ES &  ~Pr)), Su)', 'Xor(((En &  ~Su & ES & Pr) | (En & Su & ES &  ~Pr) | (En & Su & ES & Pr)), ES)', 'Xor(((En & Su & ES &  ~Pr) | (En &  ~Su & ES &  ~Pr) | (En & Su &  ~ES &  ~Pr) | ( ~En &  ~Su & ES &  ~Pr) | ( ~En & Su & ES &  ~Pr)), Pr)']\n"
     ]
    }
   ],
   "source": [
    "str_rules_list = str_rules.split('\\n')\n",
    "str_rules_list = str_rules_list[0:4]\n",
    "count = 0\n",
    "\n",
    "for n in str_rules_list: \n",
    "    str_rules_list[count] = n.strip('1: '+symbols_list[count]+'* = ') \n",
    "    count +=1\n",
    "\n",
    "sympy_input = []\n",
    "for k in range(len(str_rules_list)):\n",
    "    sympy_input.append(str_rules_list[k].replace('and', '&').replace(' or',' |').replace('not ', '~'))\n",
    "\n",
    "print(sympy_input)"
   ]
  },
  {
   "cell_type": "markdown",
   "metadata": {},
   "source": [
    "Using Sympy to simplify the Xor statement for each species yields the rules for the ES-B network as seen in the paper"
   ]
  },
  {
   "cell_type": "code",
   "execution_count": 7,
   "metadata": {},
   "outputs": [
    {
     "name": "stdout",
     "output_type": "stream",
     "text": [
      "Rules after simplifcation with Sympy\n",
      "EN* = ES | En\n",
      "S* = (Su & ~ES & ~En) | (Su & ~ES & ~Pr)\n",
      "ES* = (ES & ~En) | (ES & ~Pr & ~Su)\n",
      "P* = ES | Pr | (En & Su)\n"
     ]
    }
   ],
   "source": [
    "print('Rules after simplifcation with Sympy')\n",
    "#exp_EN = sympy.simplify(sympy.sympify(sympy_input[0][1]))\n",
    "\n",
    "print('EN* = ' + str(sympy.to_dnf(sympy_input[0], simplify=True)))\n",
    "print('S* = ' + str(sympy.to_dnf(sympy_input[1], simplify=True)))\n",
    "print('ES* = ' + str(sympy.to_dnf(sympy_input[2], simplify=True)))\n",
    "print('P* = ' + str(sympy.to_dnf(sympy_input[3], simplify=True)))\n"
   ]
  },
  {
   "cell_type": "code",
   "execution_count": 4,
   "metadata": {},
   "outputs": [
    {
     "name": "stdout",
     "output_type": "stream",
     "text": [
      "\t\n",
      "data:  {'[0, 0, 0, 0]': [[[0, 0, 0, 0], 100]], '[0, 0, 0, 1]': [[[0, 0, 0, 1], 100]], '[0, 0, 1, 0]': [[[1, 0, 0, 1], 100]], '[0, 0, 1, 1]': [[[1, 0, 0, 1], 100]], '[0, 1, 0, 0]': [[[0, 1, 0, 0], 100]], '[0, 1, 0, 1]': [[[0, 1, 0, 1], 100]], '[0, 1, 1, 0]': [[[1, 0, 0, 1], 100]], '[0, 1, 1, 1]': [[[1, 0, 0, 1], 100]], '[1, 0, 0, 0]': [[[1, 0, 0, 0], 100]], '[1, 0, 0, 1]': [[[1, 0, 0, 1], 100]], '[1, 0, 1, 0]': [[[1, 0, 0, 1], 100]], '[1, 0, 1, 1]': [[[1, 0, 0, 1], 100]], '[1, 1, 0, 0]': [[[1, 0, 0, 1], 100]], '[1, 1, 0, 1]': [[[1, 0, 0, 1], 100]], '[1, 1, 1, 0]': [[[1, 0, 0, 1], 100]], '[1, 1, 1, 1]': [[[1, 0, 0, 1], 100]]}\n",
      "\t\n",
      "steady state: [0, 0, 0, 0]\n",
      "\t(0, 0, 0, 0) <- 100\n",
      "\t\n",
      "\t\n",
      "steady state: [0, 0, 0, 1]\n",
      "\t(0, 0, 0, 1) <- 100\n",
      "\t\n",
      "\t\n",
      "steady state: [1, 0, 0, 1]\n",
      "\t(0, 0, 1, 0) <- 100\n",
      "\t(0, 0, 1, 1) <- 100\n",
      "\t(0, 1, 1, 0) <- 100\n",
      "\t(0, 1, 1, 1) <- 100\n",
      "\t(1, 0, 0, 1) <- 100\n",
      "\t(1, 0, 1, 0) <- 100\n",
      "\t(1, 0, 1, 1) <- 100\n",
      "\t(1, 1, 0, 0) <- 100\n",
      "\t(1, 1, 0, 1) <- 100\n",
      "\t(1, 1, 1, 0) <- 100\n",
      "\t(1, 1, 1, 1) <- 100\n",
      "\t\n",
      "\t\n",
      "steady state: [0, 1, 0, 0]\n",
      "\t(0, 1, 0, 0) <- 100\n",
      "\t\n",
      "\t\n",
      "steady state: [0, 1, 0, 1]\n",
      "\t(0, 1, 0, 1) <- 100\n",
      "\t\n",
      "\t\n",
      "steady state: [1, 0, 0, 0]\n",
      "\t(1, 0, 0, 0) <- 100\n",
      "\t\n",
      "\t\t\n",
      "============================\n",
      "Start creating SSinfo object\n",
      "\t\n",
      "Populating the target entries.\n",
      "Finished creating SSInfo object.\n",
      "================================\n",
      "create rules \n",
      "\n",
      "16 4\n",
      "tgts: {} 1 10 4 0 []\n",
      "0\n",
      "[3, 2, 4, 3, 2, 1, 2, 1, 3, 2]\n",
      "eliminate_transitions calling\n",
      "cri 0.0038902759552001953 0.0012636184692382812\n",
      "rk took: 0.00860738754272461\n",
      "[[(1, 1, 1, 0), (0, 1, 1, 1), (0, 0, 1, 0), (0, 1, 1, 0), (0, 0, 1, 1)], [(1, 1, 0, 1), (1, 1, 1, 0), (0, 1, 1, 1), (1, 1, 1, 1), (0, 1, 1, 0)], [(1, 0, 1, 1), (1, 1, 0, 0), (1, 1, 1, 0), (1, 1, 1, 1)], [(1, 1, 1, 0), (1, 0, 1, 0), (1, 1, 0, 0), (0, 0, 1, 0), (0, 1, 1, 0)]]\n",
      "rule  0 5\n",
      "rule  1 5\n",
      "rule  2 4\n",
      "rule  3 5\n",
      "1: En* = Xor(((En and Su and ES and  not Pr) or ( not En and Su and ES and Pr) or ( not En and  not Su and ES and  not Pr) or ( not En and Su and ES and  not Pr) or ( not En and  not Su and ES and Pr)), En)\n",
      "1: Su* = Xor(((En and Su and  not ES and Pr) or (En and Su and ES and  not Pr) or ( not En and Su and ES and Pr) or (En and Su and ES and Pr) or ( not En and Su and ES and  not Pr)), Su)\n",
      "1: ES* = Xor(((En and  not Su and ES and Pr) or (En and Su and  not ES and  not Pr) or (En and Su and ES and  not Pr) or (En and Su and ES and Pr)), ES)\n",
      "1: Pr* = Xor(((En and Su and ES and  not Pr) or (En and  not Su and ES and  not Pr) or (En and Su and  not ES and  not Pr) or ( not En and  not Su and ES and  not Pr) or ( not En and Su and ES and  not Pr)), Pr)\n",
      "    if(k==0)\n",
      "        return Xor(((x[0] && x[1] && x[2] &&  !x[3]) || ( !x[0] && x[1] && x[2] && x[3]) || ( !x[0] &&  !x[1] && x[2] &&  !x[3]) || ( !x[0] && x[1] && x[2] &&  !x[3]) || ( !x[0] &&  !x[1] && x[2] && x[3])), x[0]);\n",
      "    if(k==1)\n",
      "        return Xor(((x[0] && x[1] &&  !x[2] && x[3]) || (x[0] && x[1] && x[2] &&  !x[3]) || ( !x[0] && x[1] && x[2] && x[3]) || (x[0] && x[1] && x[2] && x[3]) || ( !x[0] && x[1] && x[2] &&  !x[3])), x[1]);\n",
      "    if(k==2)\n",
      "        return Xor(((x[0] &&  !x[1] && x[2] && x[3]) || (x[0] && x[1] &&  !x[2] &&  !x[3]) || (x[0] && x[1] && x[2] &&  !x[3]) || (x[0] && x[1] && x[2] && x[3])), x[2]);\n",
      "    if(k==3)\n",
      "        return Xor(((x[0] && x[1] && x[2] &&  !x[3]) || (x[0] &&  !x[1] && x[2] &&  !x[3]) || (x[0] && x[1] &&  !x[2] &&  !x[3]) || ( !x[0] &&  !x[1] && x[2] &&  !x[3]) || ( !x[0] && x[1] && x[2] &&  !x[3])), x[3]);\n",
      "\n",
      "generating rules took  0.028128623962402344\n"
     ]
    }
   ],
   "source": [
    "addlist = [((1, 1, 1, 0), 0), ((1, 1, 0, 0), 2)]\n",
    "\n",
    "str_rules_expert_fw, simple_rulelist_expert_fw, fs_cpp_name_expert_fw = creating_rules(fn,symbols_list,backwardpaths=0,addlist=addlist)"
   ]
  },
  {
   "cell_type": "code",
   "execution_count": 7,
   "metadata": {},
   "outputs": [
    {
     "name": "stdout",
     "output_type": "stream",
     "text": [
      "['Xor(((En & Su & ES &  ~Pr) | ( ~En & Su & ES & Pr) | ( ~En &  ~Su & ES &  ~Pr) | ( ~En & Su & ES &  ~Pr) | ( ~En &  ~Su & ES & Pr)), En)', 'Xor(((En & Su &  ~ES & Pr) | (En & Su & ES &  ~Pr) | ( ~En & Su & ES & Pr) | (En & Su & ES & Pr) | ( ~En & Su & ES &  ~Pr)), Su)', 'Xor(((En &  ~Su & ES & Pr) | (En & Su &  ~ES &  ~Pr) | (En & Su & ES &  ~Pr) | (En & Su & ES & Pr)), ES)', 'Xor(((En & Su & ES &  ~Pr) | (En &  ~Su & ES &  ~Pr) | (En & Su &  ~ES &  ~Pr) | ( ~En &  ~Su & ES &  ~Pr) | ( ~En & Su & ES &  ~Pr)), Pr)']\n"
     ]
    }
   ],
   "source": [
    "str_rules_list = str_rules_expert_fw.split('\\n')\n",
    "str_rules_list = str_rules_list[0:4]\n",
    "count = 0\n",
    "\n",
    "for n in str_rules_list: \n",
    "    str_rules_list[count] = n.strip('1: '+symbols_list[count]+'* = ') \n",
    "    count +=1\n",
    "\n",
    "sympy_input = []\n",
    "for k in range(len(str_rules_list)):\n",
    "    sympy_input.append(str_rules_list[k].replace('and', '&').replace(' or',' |').replace('not ', '~'))\n",
    "\n",
    "print(sympy_input)"
   ]
  },
  {
   "cell_type": "code",
   "execution_count": 8,
   "metadata": {},
   "outputs": [
    {
     "name": "stdout",
     "output_type": "stream",
     "text": [
      "Rules after simplifcation with Sympy\n",
      "EN* = (En & Pr) | (ES & ~En) | (En & ~ES) | (En & ~Su)\n",
      "S* = (Su & ~ES & ~En) | (Su & ~ES & ~Pr)\n",
      "ES* = (ES & ~En) | (ES & ~Pr & ~Su) | (En & Su & ~ES & ~Pr)\n",
      "P* = ES | Pr | (En & Su)\n"
     ]
    }
   ],
   "source": [
    "print('Rules after simplifcation with Sympy')\n",
    "#exp_EN = sympy.simplify(sympy.sympify(sympy_input[0][1]))\n",
    "\n",
    "print('EN* = ' + str(sympy.to_dnf(sympy_input[0], simplify=True)))\n",
    "print('S* = ' + str(sympy.to_dnf(sympy_input[1], simplify=True)))\n",
    "print('ES* = ' + str(sympy.to_dnf(sympy_input[2], simplify=True)))\n",
    "print('P* = ' + str(sympy.to_dnf(sympy_input[3], simplify=True)))\n"
   ]
  },
  {
   "cell_type": "code",
   "execution_count": 4,
   "metadata": {},
   "outputs": [
    {
     "name": "stdout",
     "output_type": "stream",
     "text": [
      "\t\n",
      "data:  {'[0, 0, 0, 0]': [[[0, 0, 0, 0], 100]], '[0, 0, 0, 1]': [[[0, 0, 0, 1], 100]], '[0, 0, 1, 0]': [[[1, 0, 0, 1], 100]], '[0, 0, 1, 1]': [[[1, 0, 0, 1], 100]], '[0, 1, 0, 0]': [[[0, 1, 0, 0], 100]], '[0, 1, 0, 1]': [[[0, 1, 0, 1], 100]], '[0, 1, 1, 0]': [[[1, 0, 0, 1], 100]], '[0, 1, 1, 1]': [[[1, 0, 0, 1], 100]], '[1, 0, 0, 0]': [[[1, 0, 0, 0], 100]], '[1, 0, 0, 1]': [[[1, 0, 0, 1], 100]], '[1, 0, 1, 0]': [[[1, 0, 0, 1], 100]], '[1, 0, 1, 1]': [[[1, 0, 0, 1], 100]], '[1, 1, 0, 0]': [[[1, 0, 0, 1], 100]], '[1, 1, 0, 1]': [[[1, 0, 0, 1], 100]], '[1, 1, 1, 0]': [[[1, 0, 0, 1], 100]], '[1, 1, 1, 1]': [[[1, 0, 0, 1], 100]]}\n",
      "\t\n",
      "steady state: [0, 0, 0, 0]\n",
      "\t(0, 0, 0, 0) <- 100\n",
      "\t\n",
      "\t\n",
      "steady state: [0, 0, 0, 1]\n",
      "\t(0, 0, 0, 1) <- 100\n",
      "\t\n",
      "\t\n",
      "steady state: [1, 0, 0, 1]\n",
      "\t(0, 0, 1, 0) <- 100\n",
      "\t(0, 0, 1, 1) <- 100\n",
      "\t(0, 1, 1, 0) <- 100\n",
      "\t(0, 1, 1, 1) <- 100\n",
      "\t(1, 0, 0, 1) <- 100\n",
      "\t(1, 0, 1, 0) <- 100\n",
      "\t(1, 0, 1, 1) <- 100\n",
      "\t(1, 1, 0, 0) <- 100\n",
      "\t(1, 1, 0, 1) <- 100\n",
      "\t(1, 1, 1, 0) <- 100\n",
      "\t(1, 1, 1, 1) <- 100\n",
      "\t\n",
      "\t\n",
      "steady state: [0, 1, 0, 0]\n",
      "\t(0, 1, 0, 0) <- 100\n",
      "\t\n",
      "\t\n",
      "steady state: [0, 1, 0, 1]\n",
      "\t(0, 1, 0, 1) <- 100\n",
      "\t\n",
      "\t\n",
      "steady state: [1, 0, 0, 0]\n",
      "\t(1, 0, 0, 0) <- 100\n",
      "\t\n",
      "\t\t\n",
      "============================\n",
      "Start creating SSinfo object\n",
      "\t\n",
      "Populating the target entries.\n",
      "Finished creating SSInfo object.\n",
      "================================\n",
      "create rules \n",
      "\n",
      "16 4\n",
      "tgts: {} 1 10 4 1 [((1, 0, 1, 1), 0), ((1, 0, 1, 0), 0), ((1, 1, 1, 1), 0), ((1, 0, 1, 1), 1), ((1, 0, 1, 0), 1), ((0, 0, 1, 0), 1), ((0, 0, 1, 1), 1), ((1, 1, 0, 1), 2), ((1, 0, 1, 1), 3), ((1, 1, 0, 1), 3), ((0, 1, 1, 1), 3), ((1, 1, 1, 1), 3), ((0, 0, 1, 1), 3)]\n",
      "1\n",
      "[3, 2, 4, 3, 2, 1, 2, 1, 3, 2]\n",
      "eliminate_transitions calling\n",
      "cri 0.0024323463439941406 0.0002396106719970703\n",
      "rk took: 0.005609273910522461\n",
      "[[(1, 1, 1, 0), (0, 1, 1, 1), (0, 0, 1, 0), (0, 1, 1, 0), (0, 0, 1, 1)], [(1, 1, 0, 1), (1, 1, 1, 0), (0, 1, 1, 1), (1, 1, 1, 1), (0, 1, 1, 0)], [(1, 0, 1, 1), (1, 1, 0, 0), (1, 1, 1, 0), (1, 1, 1, 1)], [(1, 1, 1, 0), (1, 0, 1, 0), (1, 1, 0, 0), (0, 0, 1, 0), (0, 1, 1, 0)]]\n",
      "rule  0 5\n",
      "rule  1 5\n",
      "rule  2 4\n",
      "rule  3 5\n",
      "1: En* = Xor(((En and Su and ES and  not Pr) or ( not En and Su and ES and Pr) or ( not En and  not Su and ES and  not Pr) or ( not En and Su and ES and  not Pr) or ( not En and  not Su and ES and Pr)), En)\n",
      "1: Su* = Xor(((En and Su and  not ES and Pr) or (En and Su and ES and  not Pr) or ( not En and Su and ES and Pr) or (En and Su and ES and Pr) or ( not En and Su and ES and  not Pr)), Su)\n",
      "1: ES* = Xor(((En and  not Su and ES and Pr) or (En and Su and  not ES and  not Pr) or (En and Su and ES and  not Pr) or (En and Su and ES and Pr)), ES)\n",
      "1: Pr* = Xor(((En and Su and ES and  not Pr) or (En and  not Su and ES and  not Pr) or (En and Su and  not ES and  not Pr) or ( not En and  not Su and ES and  not Pr) or ( not En and Su and ES and  not Pr)), Pr)\n",
      "    if(k==0)\n",
      "        return Xor(((x[0] && x[1] && x[2] &&  !x[3]) || ( !x[0] && x[1] && x[2] && x[3]) || ( !x[0] &&  !x[1] && x[2] &&  !x[3]) || ( !x[0] && x[1] && x[2] &&  !x[3]) || ( !x[0] &&  !x[1] && x[2] && x[3])), x[0]);\n",
      "    if(k==1)\n",
      "        return Xor(((x[0] && x[1] &&  !x[2] && x[3]) || (x[0] && x[1] && x[2] &&  !x[3]) || ( !x[0] && x[1] && x[2] && x[3]) || (x[0] && x[1] && x[2] && x[3]) || ( !x[0] && x[1] && x[2] &&  !x[3])), x[1]);\n",
      "    if(k==2)\n",
      "        return Xor(((x[0] &&  !x[1] && x[2] && x[3]) || (x[0] && x[1] &&  !x[2] &&  !x[3]) || (x[0] && x[1] && x[2] &&  !x[3]) || (x[0] && x[1] && x[2] && x[3])), x[2]);\n",
      "    if(k==3)\n",
      "        return Xor(((x[0] && x[1] && x[2] &&  !x[3]) || (x[0] &&  !x[1] && x[2] &&  !x[3]) || (x[0] && x[1] &&  !x[2] &&  !x[3]) || ( !x[0] &&  !x[1] && x[2] &&  !x[3]) || ( !x[0] && x[1] && x[2] &&  !x[3])), x[3]);\n",
      "\n",
      "generating rules took  0.025589704513549805\n"
     ]
    }
   ],
   "source": [
    "blacklist = [((1, 0, 1, 1), 0), ((1, 0, 1, 0), 0), ((1, 1, 1, 1), 0),\n",
    "             ((1, 0, 1, 1), 1), ((1, 0, 1, 0), 1), ((0, 0, 1, 0), 1), ((0, 0, 1, 1), 1),\n",
    "             ((1, 1, 0, 1), 2),\n",
    "             ((1, 0, 1, 1), 3), ((1, 1, 0, 1), 3), ((0, 1, 1, 1), 3), ((1, 1, 1, 1), 3), ((0, 0, 1, 1), 3)]\n",
    "\n",
    "str_rules_expert_bw, simple_rulelist_expert_bw, fs_cpp_name_expert_bw = creating_rules(fn,symbols_list,backwardpaths=1,blacklist=blacklist)"
   ]
  },
  {
   "cell_type": "code",
   "execution_count": 5,
   "metadata": {},
   "outputs": [
    {
     "name": "stdout",
     "output_type": "stream",
     "text": [
      "['Xor(((En & Su & ES &  ~Pr) | ( ~En & Su & ES & Pr) | ( ~En &  ~Su & ES &  ~Pr) | ( ~En & Su & ES &  ~Pr) | ( ~En &  ~Su & ES & Pr)), En)', 'Xor(((En & Su &  ~ES & Pr) | (En & Su & ES &  ~Pr) | ( ~En & Su & ES & Pr) | (En & Su & ES & Pr) | ( ~En & Su & ES &  ~Pr)), Su)', 'Xor(((En &  ~Su & ES & Pr) | (En & Su &  ~ES &  ~Pr) | (En & Su & ES &  ~Pr) | (En & Su & ES & Pr)), ES)', 'Xor(((En & Su & ES &  ~Pr) | (En &  ~Su & ES &  ~Pr) | (En & Su &  ~ES &  ~Pr) | ( ~En &  ~Su & ES &  ~Pr) | ( ~En & Su & ES &  ~Pr)), Pr)']\n"
     ]
    }
   ],
   "source": [
    "str_rules_list = str_rules_expert_bw.split('\\n')\n",
    "str_rules_list = str_rules_list[0:4]\n",
    "count = 0\n",
    "\n",
    "for n in str_rules_list: \n",
    "    str_rules_list[count] = n.strip('1: '+symbols_list[count]+'* = ') \n",
    "    count +=1\n",
    "\n",
    "sympy_input = []\n",
    "for k in range(len(str_rules_list)):\n",
    "    sympy_input.append(str_rules_list[k].replace('and', '&').replace(' or',' |').replace('not ', '~'))\n",
    "\n",
    "print(sympy_input)"
   ]
  },
  {
   "cell_type": "code",
   "execution_count": 6,
   "metadata": {},
   "outputs": [
    {
     "name": "stdout",
     "output_type": "stream",
     "text": [
      "Rules after simplifcation with Sympy\n",
      "EN* = (En & Pr) | (ES & ~En) | (En & ~ES) | (En & ~Su)\n",
      "S* = (Su & ~ES & ~En) | (Su & ~ES & ~Pr)\n",
      "ES* = (ES & ~En) | (ES & ~Pr & ~Su) | (En & Su & ~ES & ~Pr)\n",
      "P* = ES | Pr | (En & Su)\n"
     ]
    }
   ],
   "source": [
    "print('Rules after simplifcation with Sympy')\n",
    "#exp_EN = sympy.simplify(sympy.sympify(sympy_input[0][1]))\n",
    "\n",
    "print('EN* = ' + str(sympy.to_dnf(sympy_input[0], simplify=True)))\n",
    "print('S* = ' + str(sympy.to_dnf(sympy_input[1], simplify=True)))\n",
    "print('ES* = ' + str(sympy.to_dnf(sympy_input[2], simplify=True)))\n",
    "print('P* = ' + str(sympy.to_dnf(sympy_input[3], simplify=True)))\n"
   ]
  },
  {
   "cell_type": "code",
   "execution_count": null,
   "metadata": {},
   "outputs": [],
   "source": []
  }
 ],
 "metadata": {
  "kernelspec": {
   "display_name": "Python 3",
   "language": "python",
   "name": "python3"
  },
  "language_info": {
   "codemirror_mode": {
    "name": "ipython",
    "version": 3
   },
   "file_extension": ".py",
   "mimetype": "text/x-python",
   "name": "python",
   "nbconvert_exporter": "python",
   "pygments_lexer": "ipython3",
   "version": "3.7.9"
  },
  "metadata": {
   "interpreter": {
    "hash": "08f59346e0a0df533f17280de9def8b6d2bce0215a4f4535d159dfeb1f9338e0"
   }
  }
 },
 "nbformat": 4,
 "nbformat_minor": 4
}
