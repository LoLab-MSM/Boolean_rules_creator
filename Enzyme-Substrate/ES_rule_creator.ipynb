{
 "cells": [
  {
   "cell_type": "markdown",
   "metadata": {},
   "source": [
    "## Ezyme-Subtrate Kinetics Rule Creator"
   ]
  },
  {
   "cell_type": "markdown",
   "metadata": {},
   "source": [
    "\n",
    "This notebook uses the Boolean_rules_creator tool available to generate\n",
    "rules for a boolean network describing Michaelis-Menten enzyme-substrate kinetics. For more information on the tool and installation instructions, view the GitHub page at https://github.com/LoLab-VU/Boolean_rules_creator .\n",
    "\n",
    "   >More details on the algorithm and a description of the model are available in the preprint at\n",
    "   >https://www.biorxiv.org/content/10.1101/2020.12.15.422874v1.full (Prugger et. al. 2020).\n",
    "\n",
    "\n",
    "### Importing libraries\n"
   ]
  },
  {
   "cell_type": "code",
   "execution_count": 1,
   "metadata": {},
   "outputs": [],
   "source": [
    "from rule_creator import creating_rules\n",
    "import json\n",
    "import sympy\n",
    "from sympy.logic.boolalg import Xor\n",
    "from sympy import symbols"
   ]
  },
  {
   "cell_type": "markdown",
   "metadata": {},
   "source": [
    "### Loading the input file\n",
    "\n",
    "For the ES model, there is only one possibly steady state outcome, so the Boolean ruleset can be generation without optimization. The list  In this example, only the rule_creator function is used to recreate the forward, backwards, and expert-guided rulesets.\n",
    "\n",
    "The input file for this model is 'ES_steady_states.json', which contains the possible initial boolean states for the four species: Enzyme (En), Substrate (Su), Enzyme-Substrate complex (ES), and Product (Pr). For this script, these states are always referenced in this order."
   ]
  },
  {
   "cell_type": "code",
   "execution_count": 2,
   "metadata": {},
   "outputs": [],
   "source": [
    "fn = 'ES_steady_states.json'\n",
    "En, Su, ES, Pr = symbols('En Su ES Pr')\n",
    "symbols_list = ['En', 'Su', 'ES', 'Pr']"
   ]
  },
  {
   "cell_type": "markdown",
   "metadata": {},
   "source": [
    "The input file contains pairs of intial and steady states followed by the frequency\n",
    "with which the intial state leads to that final state. "
   ]
  },
  {
   "cell_type": "code",
   "execution_count": 3,
   "metadata": {},
   "outputs": [
    {
     "name": "stdout",
     "output_type": "stream",
     "text": [
      "dict_items([('[0, 0, 0, 0]', [[[0, 0, 0, 0], 100]]), ('[0, 0, 0, 1]', [[[0, 0, 0, 1], 100]]), ('[0, 0, 1, 0]', [[[1, 0, 0, 1], 100]]), ('[0, 0, 1, 1]', [[[1, 0, 0, 1], 100]]), ('[0, 1, 0, 0]', [[[0, 1, 0, 0], 100]]), ('[0, 1, 0, 1]', [[[0, 1, 0, 1], 100]]), ('[0, 1, 1, 0]', [[[1, 0, 0, 1], 100]]), ('[0, 1, 1, 1]', [[[1, 0, 0, 1], 100]]), ('[1, 0, 0, 0]', [[[1, 0, 0, 0], 100]]), ('[1, 0, 0, 1]', [[[1, 0, 0, 1], 100]]), ('[1, 0, 1, 0]', [[[1, 0, 0, 1], 100]]), ('[1, 0, 1, 1]', [[[1, 0, 0, 1], 100]]), ('[1, 1, 0, 0]', [[[1, 0, 0, 1], 100]]), ('[1, 1, 0, 1]', [[[1, 0, 0, 1], 100]]), ('[1, 1, 1, 0]', [[[1, 0, 0, 1], 100]]), ('[1, 1, 1, 1]', [[[1, 0, 0, 1], 100]])])\n"
     ]
    }
   ],
   "source": [
    "with open(fn) as fs:\n",
    "    data = json.load(fs)\n",
    "    fs.close()\n",
    "print(data.items())"
   ]
  },
  {
   "cell_type": "markdown",
   "metadata": {},
   "source": [
    "### Generating network rules\n",
    "\n",
    "The function creating_rules will take these input states and generate a list of rules which contain\n",
    "the possible transitions to describe the boolean network. For this model, the first three states, as seen below, can only progress to their respective steady states due to the lack of reactive species. For all other intial states the only possible steady state is [1,0,0,1]."
   ]
  },
  {
   "cell_type": "code",
   "execution_count": 16,
   "metadata": {},
   "outputs": [
    {
     "name": "stdout",
     "output_type": "stream",
     "text": [
      "generating rules took  0.008001089096069336 seconds\n"
     ]
    }
   ],
   "source": [
    "#Call the creating_rules function to generate str_rules and simple_rulelist\n",
    "#Inputs are the filename, list of symbols, and backwardspaths (0 = forward paths, 1 = backward paths)\n",
    "str_rules, simple_rulelist, fs_cpp_name = creating_rules(fn,symbols_list,backwardpaths=0)"
   ]
  },
  {
   "cell_type": "markdown",
   "metadata": {},
   "source": [
    "Looking at the resulting rule list with all backwords transitions included:"
   ]
  },
  {
   "cell_type": "code",
   "execution_count": 17,
   "metadata": {},
   "outputs": [
    {
     "name": "stdout",
     "output_type": "stream",
     "text": [
      "The string rules describe the full ruleset in formal logical terms, showing what states can activate that species.\n",
      "\n",
      "String rules:\n",
      "1: En* = Xor((( not En and  not Su and ES and  not Pr) or ( not En and  not Su and ES and Pr) or ( not En and Su and ES and  not Pr) or ( not En and Su and ES and Pr)), En)\n",
      "1: Su* = Xor((( not En and Su and ES and Pr) or (En and Su and ES and  not Pr) or ( not En and Su and ES and  not Pr) or (En and Su and  not ES and Pr) or (En and Su and ES and Pr)), Su)\n",
      "1: ES* = Xor(((En and Su and ES and  not Pr) or (En and Su and ES and Pr) or (En and  not Su and ES and Pr)), ES)\n",
      "1: Pr* = Xor((( not En and  not Su and ES and  not Pr) or (En and Su and  not ES and  not Pr) or (En and Su and ES and  not Pr) or ( not En and Su and ES and  not Pr) or (En and  not Su and ES and  not Pr)), Pr)\n",
      "\n",
      "The simple rulelist show the string rules in their boolean form; this conveys the same information as above.\n",
      "\n",
      "Simple rulelist\n",
      "[[(0, 0, 1, 0), (0, 0, 1, 1), (0, 1, 1, 0), (0, 1, 1, 1)], [(0, 1, 1, 1), (1, 1, 1, 0), (0, 1, 1, 0), (1, 1, 0, 1), (1, 1, 1, 1)], [(1, 1, 1, 0), (1, 1, 1, 1), (1, 0, 1, 1)], [(0, 0, 1, 0), (1, 1, 0, 0), (1, 1, 1, 0), (0, 1, 1, 0), (1, 0, 1, 0)]]\n"
     ]
    }
   ],
   "source": [
    "print('The string rules describe the full ruleset in formal logical terms, showing what states can activate that species.')\n",
    "print('\\nString rules:')\n",
    "print(str_rules)\n",
    "\n",
    "print('The simple rulelist show the string rules in their boolean form; this conveys the same information as above.')\n",
    "print('\\nSimple rulelist')\n",
    "print(simple_rulelist)"
   ]
  },
  {
   "cell_type": "markdown",
   "metadata": {},
   "source": [
    "The resulting rulelist generated using forward rules for each species is displayed in the table below based on their Hamming distance, where d is the number of steps needed to reach the steady state [1,0,0,1].\n",
    "\n",
    "| Species \t| list for d=1  \t| list for d=2         \t        | list for d=3         \t    | list for d=4 \t|\n",
    "|:---------:|:--------------: \t|:-----------------------------:|:-------------------------:|:-------------:|\n",
    "| En      \t|     \t    |  [0,0,1,1]  | [0,1,1,1], [0,0,1,0] \t    | [0,1,1,0]    \t|\n",
    "| Su      \t|  [1,1,0,1]     |  [1,1,1,1],                     | [1,1,1,0], [0,1,1,1],  \t    | [0,1,1,0]    \t|\n",
    "| ES      \t| [1,0,1,1]    \t    |  [1,1,1,1]            \t    | [1,1,1,0]            \t    |              \t|\n",
    "| Pr      \t|          \t    |  [1,0,1,0], [1,1,0,0],  \t    | [0,0,1,0], [1,1,1,0]  \t    | [0,1,1,0]   \t|\n",
    "\n"
   ]
  },
  {
   "cell_type": "markdown",
   "metadata": {},
   "source": [
    "This can also be done with all backward paths included:\n",
    "\n",
    "| Species \t| list for d=1  \t| list for d=2         \t        | list for d=3         \t    | list for d=4 \t|\n",
    "|:---------:|:--------------: \t|:-----------------------------:|:-------------------------:|:-------------:|\n",
    "| En      \t| [1,0,1,1]    \t    |  [0,0,1,1], [1,0,1,0], [1,1,1,1]   | [0,1,1,1], [1,1,1,0], [0,0,1,0] \t    | [0,1,1,0]    \t|\n",
    "| Su      \t| [1,0,1,1], [1,1,0,1]     |  [1,1,1,1], [1,0,1,0], [0,0,1,1]                    | [1,1,1,0], [0,1,1,1], [0,0,1,0] \t    | [0,1,1,0]    \t|\n",
    "| ES      \t| [1,0,1,1], [1,1,0,1]    \t    |  [1,1,0,0], [1,1,1,1]            \t    | [1,1,1,0]            \t    |              \t|\n",
    "| Pr      \t|  [1,0,1,1], [1,1,0,1]           \t    |  [1,0,1,0], [1,1,0,0], [0,0,1,1], [1,1,1,1]\t    | [0,0,1,0], [1,1,1,0], [0,1,1,1]  \t    | [0,1,1,0]    \t|\n",
    "\n"
   ]
  },
  {
   "cell_type": "markdown",
   "metadata": {},
   "source": [
    "\n",
    "With the input variable backwardspath set as 1, we generate the network with all possible backwards paths available\n",
    "for transitions. The simple rulelist output describes the resulting network. The example below (from Figure 3) shows the network formed with the initial state [1,1,0,0].\n",
    "\n",
    "\n",
    "![alt text](bw_1100_4.png \"ES-B Network\")"
   ]
  },
  {
   "cell_type": "markdown",
   "metadata": {},
   "source": [
    "### Generating simplified rules from manuscript"
   ]
  },
  {
   "cell_type": "markdown",
   "metadata": {},
   "source": [
    "In order to simplify the forward only rules to match those in the paper, the Sympy library is used. For this, the string rules must first be converted to formal logic notation."
   ]
  },
  {
   "cell_type": "code",
   "execution_count": 6,
   "metadata": {},
   "outputs": [
    {
     "name": "stdout",
     "output_type": "stream",
     "text": [
      "['Xor((( ~En &  ~Su & ES &  ~Pr) | ( ~En &  ~Su & ES & Pr) | ( ~En & Su & ES &  ~Pr) | ( ~En & Su & ES & Pr)), En)', 'Xor((( ~En & Su & ES & Pr) | (En & Su & ES &  ~Pr) | ( ~En & Su & ES &  ~Pr) | (En & Su &  ~ES & Pr) | (En & Su & ES & Pr)), Su)', 'Xor(((En & Su & ES &  ~Pr) | (En & Su & ES & Pr) | (En &  ~Su & ES & Pr)), ES)', 'Xor((( ~En &  ~Su & ES &  ~Pr) | (En & Su &  ~ES &  ~Pr) | (En & Su & ES &  ~Pr) | ( ~En & Su & ES &  ~Pr) | (En &  ~Su & ES &  ~Pr)), Pr)']\n"
     ]
    }
   ],
   "source": [
    "str_rules_list = str_rules.split('\\n')\n",
    "str_rules_list = str_rules_list[0:4]\n",
    "count = 0\n",
    "\n",
    "for n in str_rules_list: \n",
    "    str_rules_list[count] = n.strip('1: '+symbols_list[count]+'* = ') \n",
    "    count +=1\n",
    "\n",
    "sympy_input = []\n",
    "for k in range(len(str_rules_list)):\n",
    "    sympy_input.append(str_rules_list[k].replace('and', '&').replace(' or',' |').replace('not ', '~'))\n",
    "\n",
    "print(sympy_input)"
   ]
  },
  {
   "cell_type": "markdown",
   "metadata": {},
   "source": [
    "Using Sympy to simplify the Xor statement for each species yields the rules for the ES-B network as seen in the paper. Note that '|' represents 'or', '&' represents 'and', and '~' represents 'not'."
   ]
  },
  {
   "cell_type": "code",
   "execution_count": 7,
   "metadata": {},
   "outputs": [
    {
     "name": "stdout",
     "output_type": "stream",
     "text": [
      "Rules after simplifcation with Sympy\n",
      "EN* = ES | En\n",
      "S* = (Su & ~ES & ~En) | (Su & ~ES & ~Pr)\n",
      "ES* = (ES & ~En) | (ES & ~Pr & ~Su)\n",
      "P* = ES | Pr | (En & Su)\n"
     ]
    }
   ],
   "source": [
    "print('Rules after simplifcation with Sympy')\n",
    "#exp_EN = sympy.simplify(sympy.sympify(sympy_input[0][1]))\n",
    "\n",
    "print('EN* = ' + str(sympy.to_dnf(sympy_input[0], simplify=True)))\n",
    "print('S* = ' + str(sympy.to_dnf(sympy_input[1], simplify=True)))\n",
    "print('ES* = ' + str(sympy.to_dnf(sympy_input[2], simplify=True)))\n",
    "print('P* = ' + str(sympy.to_dnf(sympy_input[3], simplify=True)))\n"
   ]
  },
  {
   "cell_type": "markdown",
   "metadata": {},
   "source": [
    "### Incorporating expert knowledge\n",
    "\n",
    "Now we are demonstrating how expert knowledge can be incorporated so that we get the correct kinetics. Here we are adding two transitions we know to be necessary and recreating the rule list using these with additions with the forward paths only."
   ]
  },
  {
   "cell_type": "code",
   "execution_count": 8,
   "metadata": {},
   "outputs": [
    {
     "name": "stdout",
     "output_type": "stream",
     "text": [
      "generating rules took  0.010995149612426758 seconds\n"
     ]
    }
   ],
   "source": [
    "addlist = [((1, 1, 1, 0), 0), ((1, 1, 0, 0), 2)]\n",
    "\n",
    "str_rules_expert_fw, simple_rulelist_expert_fw, fs_cpp_name_expert_fw = creating_rules(fn,symbols_list,backwardpaths=0,addlist=addlist)"
   ]
  },
  {
   "cell_type": "markdown",
   "metadata": {},
   "source": [
    "Formatting the string rules for simplification by Sympy."
   ]
  },
  {
   "cell_type": "code",
   "execution_count": 9,
   "metadata": {},
   "outputs": [
    {
     "name": "stdout",
     "output_type": "stream",
     "text": [
      "['Xor((( ~En &  ~Su & ES &  ~Pr) | ( ~En & Su & ES & Pr) | (En & Su & ES &  ~Pr) | ( ~En & Su & ES &  ~Pr) | ( ~En &  ~Su & ES & Pr)), En)', 'Xor((( ~En & Su & ES & Pr) | (En & Su & ES &  ~Pr) | ( ~En & Su & ES &  ~Pr) | (En & Su &  ~ES & Pr) | (En & Su & ES & Pr)), Su)', 'Xor(((En & Su &  ~ES &  ~Pr) | (En & Su & ES &  ~Pr) | (En & Su & ES & Pr) | (En &  ~Su & ES & Pr)), ES)', 'Xor((( ~En &  ~Su & ES &  ~Pr) | (En & Su &  ~ES &  ~Pr) | (En & Su & ES &  ~Pr) | ( ~En & Su & ES &  ~Pr) | (En &  ~Su & ES &  ~Pr)), Pr)']\n"
     ]
    }
   ],
   "source": [
    "str_rules_list = str_rules_expert_fw.split('\\n')\n",
    "str_rules_list = str_rules_list[0:4]\n",
    "count = 0\n",
    "\n",
    "for n in str_rules_list: \n",
    "    str_rules_list[count] = n.strip('1: '+symbols_list[count]+'* = ') \n",
    "    count +=1\n",
    "\n",
    "sympy_input = []\n",
    "for k in range(len(str_rules_list)):\n",
    "    sympy_input.append(str_rules_list[k].replace('and', '&').replace(' or',' |').replace('not ', '~'))\n",
    "\n",
    "print(sympy_input)"
   ]
  },
  {
   "cell_type": "code",
   "execution_count": 10,
   "metadata": {},
   "outputs": [
    {
     "name": "stdout",
     "output_type": "stream",
     "text": [
      "Rules after simplifcation with Sympy\n",
      "EN* = (ES & Pr) | (ES & ~En) | (ES & ~Su) | (En & ~ES)\n",
      "S* = (Su & ~ES & ~En) | (Su & ~ES & ~Pr)\n",
      "ES* = (ES & ~En) | (ES & ~Pr & ~Su) | (En & Su & ~ES & ~Pr)\n",
      "P* = ES | Pr | (En & Su)\n"
     ]
    }
   ],
   "source": [
    "print('Rules after simplifcation with Sympy')\n",
    "#exp_EN = sympy.simplify(sympy.sympify(sympy_input[0][1]))\n",
    "\n",
    "print('EN* = ' + str(sympy.to_dnf(sympy_input[0], simplify=True)))\n",
    "print('S* = ' + str(sympy.to_dnf(sympy_input[1], simplify=True)))\n",
    "print('ES* = ' + str(sympy.to_dnf(sympy_input[2], simplify=True)))\n",
    "print('P* = ' + str(sympy.to_dnf(sympy_input[3], simplify=True)))\n"
   ]
  },
  {
   "cell_type": "markdown",
   "metadata": {},
   "source": [
    "We can now see the transitions based on Hamming distance for these expert guided forward path rules.\n",
    "\n",
    "| species \t| list for d=1  \t| list for d=2         \t        | list for d=3         \t    | list for d=4 \t|\n",
    "|:---------:|:--------------: \t|:-----------------------------:|:-------------------------:|:-------------:|\n",
    "| En      \t|              \t    |  [0,0,1,1]            \t    | [0,0,1,0], [0,1,1,1] \t    | [0,1,1,0]    \t|\n",
    "| Su      \t| [1,1,0,1]    \t    |  [1,1,1,1]                    | [1,1,1,0], [0,1,1,1] \t    | [0,1,1,0]    \t|\n",
    "| ES      \t| [1,0,1,1]    \t    |  [1,1,1,1], [1,1,0,0]            \t    | [1,1,1,0]            \t    |              \t|\n",
    "| Pr      \t|              \t    |  [1,0,1,0], [1,1,0,0] \t    | [1,1,1,0], [0,0,1,0] \t    | [0,1,1,0]    \t|"
   ]
  },
  {
   "cell_type": "markdown",
   "metadata": {},
   "source": [
    "\n",
    "### Expert Backwards Rules\n",
    "\n",
    "Finally, to demonstrate the creation of the ES-E expert guided network from the paper, we remove transitions known to be false from the rulelist by including them in the blacklist variable."
   ]
  },
  {
   "cell_type": "code",
   "execution_count": 11,
   "metadata": {},
   "outputs": [
    {
     "name": "stdout",
     "output_type": "stream",
     "text": [
      "generating rules took  0.012009859085083008 seconds\n"
     ]
    }
   ],
   "source": [
    "blacklist = [((1, 0, 1, 1), 0), ((1, 0, 1, 0), 0), ((1, 1, 1, 1), 0),\n",
    "             ((1, 0, 1, 1), 1), ((1, 0, 1, 0), 1), ((0, 0, 1, 0), 1), ((0, 0, 1, 1), 1),\n",
    "             ((1, 1, 0, 1), 2),\n",
    "             ((1, 0, 1, 1), 3), ((1, 1, 0, 1), 3), ((0, 1, 1, 1), 3), ((1, 1, 1, 1), 3), ((0, 0, 1, 1), 3)]\n",
    "\n",
    "str_rules_expert_bw, simple_rulelist_expert_bw, fs_cpp_name_expert_bw = creating_rules(fn,symbols_list,backwardpaths=1,blacklist=blacklist)"
   ]
  },
  {
   "cell_type": "markdown",
   "metadata": {},
   "source": [
    "Formatting the string rules for simplification by Sympy."
   ]
  },
  {
   "cell_type": "code",
   "execution_count": 12,
   "metadata": {},
   "outputs": [
    {
     "name": "stdout",
     "output_type": "stream",
     "text": [
      "['Xor((( ~En &  ~Su & ES &  ~Pr) | ( ~En & Su & ES & Pr) | (En & Su & ES &  ~Pr) | ( ~En & Su & ES &  ~Pr) | ( ~En &  ~Su & ES & Pr)), En)', 'Xor((( ~En & Su & ES & Pr) | (En & Su & ES &  ~Pr) | ( ~En & Su & ES &  ~Pr) | (En & Su &  ~ES & Pr) | (En & Su & ES & Pr)), Su)', 'Xor(((En & Su &  ~ES &  ~Pr) | (En & Su & ES &  ~Pr) | (En & Su & ES & Pr) | (En &  ~Su & ES & Pr)), ES)', 'Xor((( ~En &  ~Su & ES &  ~Pr) | (En & Su &  ~ES &  ~Pr) | (En & Su & ES &  ~Pr) | ( ~En & Su & ES &  ~Pr) | (En &  ~Su & ES &  ~Pr)), Pr)']\n"
     ]
    }
   ],
   "source": [
    "str_rules_list = str_rules_expert_bw.split('\\n')\n",
    "str_rules_list = str_rules_list[0:4]\n",
    "count = 0\n",
    "\n",
    "for n in str_rules_list: \n",
    "    str_rules_list[count] = n.strip('1: '+symbols_list[count]+'* = ') \n",
    "    count +=1\n",
    "\n",
    "sympy_input = []\n",
    "for k in range(len(str_rules_list)):\n",
    "    sympy_input.append(str_rules_list[k].replace('and', '&').replace(' or',' |').replace('not ', '~'))\n",
    "\n",
    "print(sympy_input)"
   ]
  },
  {
   "cell_type": "code",
   "execution_count": 13,
   "metadata": {},
   "outputs": [
    {
     "name": "stdout",
     "output_type": "stream",
     "text": [
      "Rules after simplifcation with Sympy\n",
      "EN* = (ES & Pr) | (ES & ~En) | (ES & ~Su) | (En & ~ES)\n",
      "S* = (Su & ~ES & ~En) | (Su & ~ES & ~Pr)\n",
      "ES* = (ES & ~En) | (ES & ~Pr & ~Su) | (En & Su & ~ES & ~Pr)\n",
      "P* = ES | Pr | (En & Su)\n"
     ]
    }
   ],
   "source": [
    "print('Rules after simplifcation with Sympy')\n",
    "#exp_EN = sympy.simplify(sympy.sympify(sympy_input[0][1]))\n",
    "\n",
    "print('EN* = ' + str(sympy.to_dnf(sympy_input[0], simplify=True)))\n",
    "print('S* = ' + str(sympy.to_dnf(sympy_input[1], simplify=True)))\n",
    "print('ES* = ' + str(sympy.to_dnf(sympy_input[2], simplify=True)))\n",
    "print('P* = ' + str(sympy.to_dnf(sympy_input[3], simplify=True)))\n"
   ]
  },
  {
   "cell_type": "markdown",
   "metadata": {},
   "source": [
    "You may notice that this rule list is the same as that generated from the Expert Forwards rulelist.\n",
    "\n",
    "| species \t| list for d=1  \t| list for d=2         \t        | list for d=3         \t    | list for d=4 \t|\n",
    "|:---------:|:--------------: \t|:-----------------------------:|:-------------------------:|:-------------:|\n",
    "| En      \t|              \t    |  [0,0,1,1]            \t    | [0,1,1,1], [1,1,1,0], [0,0,1,0] \t    | [0,1,1,0]    \t|\n",
    "| Su      \t| [1,1,0,1]    \t    |  [1,1,1,1]                    | [1,1,1,0], [0,1,1,1] \t    | [0,1,1,0]    \t|\n",
    "| ES      \t| [1,0,1,1]    \t    |  [1,1,1,1], [1,1,0,0]            \t    | [1,1,1,0]            \t    |              \t|\n",
    "| Pr      \t|              \t    |  [1,0,1,0], [1,1,0,0] \t    | [1,1,1,0], [0,0,1,0] \t    | [0,1,1,0]    \t|\n",
    "\n",
    "Although the correct kinetics can be modeled by both adding transitions to the foward paths or removing transitions from the backward paths, it is recommended to use the backward paths approach as the forward paths approach can result in losing attractor states or creating new false attractors. With the backward paths approach, we only need to ensure that transitions necessary for states to reach the attractor are not removed."
   ]
  }
 ],
 "metadata": {
  "kernelspec": {
   "display_name": "Python 3",
   "language": "python",
   "name": "python3"
  },
  "language_info": {
   "codemirror_mode": {
    "name": "ipython",
    "version": 3
   },
   "file_extension": ".py",
   "mimetype": "text/x-python",
   "name": "python",
   "nbconvert_exporter": "python",
   "pygments_lexer": "ipython3",
   "version": "3.8.8"
  },
  "metadata": {
   "interpreter": {
    "hash": "08f59346e0a0df533f17280de9def8b6d2bce0215a4f4535d159dfeb1f9338e0"
   }
  }
 },
 "nbformat": 4,
 "nbformat_minor": 4
}
