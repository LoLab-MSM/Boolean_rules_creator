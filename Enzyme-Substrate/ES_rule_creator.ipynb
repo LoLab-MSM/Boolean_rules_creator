{
 "cells": [
  {
   "cell_type": "markdown",
   "metadata": {},
   "source": [
    "## Ezyme-Subtrate Kinetics Rule Creator"
   ]
  },
  {
   "cell_type": "markdown",
   "metadata": {},
   "source": [
    "\n",
    "This notebook uses the Boolean_rules_creator tool available to generate\n",
    "rules for a boolean network describing Michaelis-Menten enzyme-substrate kinetics. For more information on the tool and installation instructions, view the GitHub page at https://github.com/LoLab-VU/Boolean_rules_creator .\n",
    "\n",
    ">More details on the algorithm and a description of the model are available in the preprint at https://www.biorxiv.org/content/10.1101/2020.12.15.422874v1.full (Prugger et. al. 2020).\n",
    "\n",
    "### Importing libraries\n"
   ]
  },
  {
   "cell_type": "code",
   "execution_count": 1,
   "metadata": {},
   "outputs": [],
   "source": [
    "from rule_creator import creating_rules\n",
    "import json\n",
    "import sympy"
   ]
  },
  {
   "cell_type": "markdown",
   "metadata": {},
   "source": [
    "### Loading the input file\n",
    "\n",
    "For the MM model, there is only one possibly steady state outcome, so the Boolean ruleset can be generation without optimization. The list  In this example, only the rule_creator function is used to recreate the forward, backwards, and expert-guided rulesets.\n",
    "\n",
    "The input file for this model is 'MM_steady_states.json', which contains the possible initial boolean states for the four species: Enzyme (EN), Substrate (S), Enzyme-Substrate complex (ES), and Product (P). For this script, these states are always referenced in this order."
   ]
  },
  {
   "cell_type": "code",
   "execution_count": 2,
   "metadata": {},
   "outputs": [],
   "source": [
    "fn = 'ES_steady_states.json'\n",
    "symbols = ['EN', 'S', 'ES', 'P']"
   ]
  },
  {
   "cell_type": "markdown",
   "metadata": {},
   "source": [
    "The input file contains pairs of intial and steady states followed by the frequency\n",
    "with which the intial state leads to that final state. "
   ]
  },
  {
   "cell_type": "code",
   "execution_count": 3,
   "metadata": {},
   "outputs": [
    {
     "output_type": "stream",
     "name": "stdout",
     "text": [
      "dict_items([('[0, 0, 0, 0]', [[[0, 0, 0, 0], 100]]), ('[0, 0, 0, 1]', [[[0, 0, 0, 1], 100]]), ('[0, 0, 1, 0]', [[[1, 0, 0, 1], 100]]), ('[0, 0, 1, 1]', [[[1, 0, 0, 1], 100]]), ('[0, 1, 0, 0]', [[[0, 1, 0, 0], 100]]), ('[0, 1, 0, 1]', [[[0, 1, 0, 1], 100]]), ('[0, 1, 1, 0]', [[[1, 0, 0, 1], 100]]), ('[0, 1, 1, 1]', [[[1, 0, 0, 1], 100]]), ('[1, 0, 0, 0]', [[[1, 0, 0, 0], 100]]), ('[1, 0, 0, 1]', [[[1, 0, 0, 1], 100]]), ('[1, 0, 1, 0]', [[[1, 0, 0, 1], 100]]), ('[1, 0, 1, 1]', [[[1, 0, 0, 1], 100]]), ('[1, 1, 0, 0]', [[[1, 0, 0, 1], 100]]), ('[1, 1, 0, 1]', [[[1, 0, 0, 1], 100]]), ('[1, 1, 1, 0]', [[[1, 0, 0, 1], 100]]), ('[1, 1, 1, 1]', [[[1, 0, 0, 1], 100]])])\n"
     ]
    }
   ],
   "source": [
    "with open(fn) as fs:\n",
    "    data = json.load(fs)\n",
    "    fs.close()\n",
    "print(data.items())"
   ]
  },
  {
   "cell_type": "markdown",
   "metadata": {},
   "source": [
    "### Generating network rules\n",
    "\n",
    "The function creating_rules will take these input states and generate a list of rules which contain\n",
    "the possible transitions to describe the boolean network. For this model, the first three states, as seen below, can only progress to their respective steady states due to the lack of reactive species. For all other intial states the only possible steady state is [1,0,0,1]."
   ]
  },
  {
   "cell_type": "code",
   "execution_count": 4,
   "metadata": {},
   "outputs": [
    {
     "output_type": "stream",
     "name": "stdout",
     "text": [
      "\t\ndata:  {'[0, 0, 0, 0]': [[[0, 0, 0, 0], 100]], '[0, 0, 0, 1]': [[[0, 0, 0, 1], 100]], '[0, 0, 1, 0]': [[[1, 0, 0, 1], 100]], '[0, 0, 1, 1]': [[[1, 0, 0, 1], 100]], '[0, 1, 0, 0]': [[[0, 1, 0, 0], 100]], '[0, 1, 0, 1]': [[[0, 1, 0, 1], 100]], '[0, 1, 1, 0]': [[[1, 0, 0, 1], 100]], '[0, 1, 1, 1]': [[[1, 0, 0, 1], 100]], '[1, 0, 0, 0]': [[[1, 0, 0, 0], 100]], '[1, 0, 0, 1]': [[[1, 0, 0, 1], 100]], '[1, 0, 1, 0]': [[[1, 0, 0, 1], 100]], '[1, 0, 1, 1]': [[[1, 0, 0, 1], 100]], '[1, 1, 0, 0]': [[[1, 0, 0, 1], 100]], '[1, 1, 0, 1]': [[[1, 0, 0, 1], 100]], '[1, 1, 1, 0]': [[[1, 0, 0, 1], 100]], '[1, 1, 1, 1]': [[[1, 0, 0, 1], 100]]}\n\t\nsteady state: [0, 0, 0, 0]\n\t(0, 0, 0, 0) <- 100\n\t\n\t\nsteady state: [0, 0, 0, 1]\n\t(0, 0, 0, 1) <- 100\n\t\n\t\nsteady state: [1, 0, 0, 1]\n\t(0, 0, 1, 0) <- 100\n\t(0, 0, 1, 1) <- 100\n\t(0, 1, 1, 0) <- 100\n\t(0, 1, 1, 1) <- 100\n\t(1, 0, 0, 1) <- 100\n\t(1, 0, 1, 0) <- 100\n\t(1, 0, 1, 1) <- 100\n\t(1, 1, 0, 0) <- 100\n\t(1, 1, 0, 1) <- 100\n\t(1, 1, 1, 0) <- 100\n\t(1, 1, 1, 1) <- 100\n\t\n\t\nsteady state: [0, 1, 0, 0]\n\t(0, 1, 0, 0) <- 100\n\t\n\t\nsteady state: [0, 1, 0, 1]\n\t(0, 1, 0, 1) <- 100\n\t\n\t\nsteady state: [1, 0, 0, 0]\n\t(1, 0, 0, 0) <- 100\n\t\n\t\t\n============================\nStart creating SSinfo object\n\t\nPopulating the target entries.\nFinished creating SSInfo object.\n================================\ncreate rules \n\n16 4\ntgts: {} 1 10 4 1 []\neliminate_transitions calling\ncri 0.0019996166229248047 0.0\nrk took: 0.003998279571533203\n[[(0, 0, 1, 0), (0, 1, 1, 1), (1, 0, 1, 1), (1, 1, 1, 0), (0, 1, 1, 0), (1, 0, 1, 0), (0, 0, 1, 1), (1, 1, 1, 1)], [(0, 0, 1, 0), (0, 1, 1, 1), (1, 0, 1, 1), (1, 1, 1, 0), (0, 1, 1, 0), (1, 0, 1, 0), (1, 1, 0, 1), (0, 0, 1, 1), (1, 1, 1, 1)], [(1, 0, 1, 1), (1, 1, 0, 0), (1, 1, 1, 0), (1, 1, 0, 1), (1, 1, 1, 1)], [(0, 0, 1, 0), (0, 1, 1, 1), (1, 0, 1, 1), (1, 1, 0, 0), (1, 1, 1, 0), (0, 1, 1, 0), (1, 0, 1, 0), (1, 1, 0, 1), (0, 0, 1, 1), (1, 1, 1, 1)]]\nrule  0 8\nrule  1 9\nrule  2 5\nrule  3 10\n1: EN* = Xor((( not EN and  not S and ES and  not P) or ( not EN and S and ES and P) or (EN and  not S and ES and P) or (EN and S and ES and  not P) or ( not EN and S and ES and  not P) or (EN and  not S and ES and  not P) or ( not EN and  not S and ES and P) or (EN and S and ES and P)), EN)\n1: S* = Xor((( not EN and  not S and ES and  not P) or ( not EN and S and ES and P) or (EN and  not S and ES and P) or (EN and S and ES and  not P) or ( not EN and S and ES and  not P) or (EN and  not S and ES and  not P) or (EN and S and  not ES and P) or ( not EN and  not S and ES and P) or (EN and S and ES and P)), S)\n1: ES* = Xor(((EN and  not S and ES and P) or (EN and S and  not ES and  not P) or (EN and S and ES and  not P) or (EN and S and  not ES and P) or (EN and S and ES and P)), ES)\n1: P* = Xor((( not EN and  not S and ES and  not P) or ( not EN and S and ES and P) or (EN and  not S and ES and P) or (EN and S and  not ES and  not P) or (EN and S and ES and  not P) or ( not EN and S and ES and  not P) or (EN and  not S and ES and  not P) or (EN and S and  not ES and P) or ( not EN and  not S and ES and P) or (EN and S and ES and P)), P)\n    if(k==0)\n        return Xor((( !x[0] &&  !x[1] && Ex[1] &&  !x[3]) || ( !x[0] && x[1] && Ex[1] && x[3]) || (x[0] &&  !x[1] && Ex[1] && x[3]) || (x[0] && x[1] && Ex[1] &&  !x[3]) || ( !x[0] && x[1] && Ex[1] &&  !x[3]) || (x[0] &&  !x[1] && Ex[1] &&  !x[3]) || ( !x[0] &&  !x[1] && Ex[1] && x[3]) || (x[0] && x[1] && Ex[1] && x[3])), x[0]);\n    if(k==1)\n        return Xor((( !x[0] &&  !x[1] && Ex[1] &&  !x[3]) || ( !x[0] && x[1] && Ex[1] && x[3]) || (x[0] &&  !x[1] && Ex[1] && x[3]) || (x[0] && x[1] && Ex[1] &&  !x[3]) || ( !x[0] && x[1] && Ex[1] &&  !x[3]) || (x[0] &&  !x[1] && Ex[1] &&  !x[3]) || (x[0] && x[1] &&  !Ex[1] && x[3]) || ( !x[0] &&  !x[1] && Ex[1] && x[3]) || (x[0] && x[1] && Ex[1] && x[3])), x[1]);\n    if(k==2)\n        return Xor(((x[0] &&  !x[1] && Ex[1] && x[3]) || (x[0] && x[1] &&  !Ex[1] &&  !x[3]) || (x[0] && x[1] && Ex[1] &&  !x[3]) || (x[0] && x[1] &&  !Ex[1] && x[3]) || (x[0] && x[1] && Ex[1] && x[3])), Ex[1]);\n    if(k==3)\n        return Xor((( !x[0] &&  !x[1] && Ex[1] &&  !x[3]) || ( !x[0] && x[1] && Ex[1] && x[3]) || (x[0] &&  !x[1] && Ex[1] && x[3]) || (x[0] && x[1] &&  !Ex[1] &&  !x[3]) || (x[0] && x[1] && Ex[1] &&  !x[3]) || ( !x[0] && x[1] && Ex[1] &&  !x[3]) || (x[0] &&  !x[1] && Ex[1] &&  !x[3]) || (x[0] && x[1] &&  !Ex[1] && x[3]) || ( !x[0] &&  !x[1] && Ex[1] && x[3]) || (x[0] && x[1] && Ex[1] && x[3])), x[3]);\n\ngenerating rules took  0.014519214630126953\n"
     ]
    }
   ],
   "source": [
    "str_rules, simple_rulelist, fs_cpp_name = creating_rules(fn,symbols,1)"
   ]
  },
  {
   "cell_type": "markdown",
   "metadata": {},
   "source": [
    "Looking at the resulting rule list:"
   ]
  },
  {
   "cell_type": "code",
   "execution_count": 12,
   "metadata": {},
   "outputs": [
    {
     "name": "stdout",
     "output_type": "stream",
     "text": [
      "The string rules describe the full ruleset in formal logical terms, showing what states can activate that species.\n",
      "\n",
      "String rules:\n",
      "1: EN* = Xor((( not EN and  not S and ES and  not P) or ( not EN and S and ES and P) or (EN and  not S and ES and P) or (EN and S and ES and  not P) or ( not EN and S and ES and  not P) or (EN and  not S and ES and  not P) or ( not EN and  not S and ES and P) or (EN and S and ES and P)), EN)\n",
      "1: S* = Xor((( not EN and  not S and ES and  not P) or ( not EN and S and ES and P) or (EN and  not S and ES and P) or (EN and S and ES and  not P) or ( not EN and S and ES and  not P) or (EN and  not S and ES and  not P) or (EN and S and  not ES and P) or ( not EN and  not S and ES and P) or (EN and S and ES and P)), S)\n",
      "1: ES* = Xor(((EN and  not S and ES and P) or (EN and S and  not ES and  not P) or (EN and S and ES and  not P) or (EN and S and  not ES and P) or (EN and S and ES and P)), ES)\n",
      "1: P* = Xor((( not EN and  not S and ES and  not P) or ( not EN and S and ES and P) or (EN and  not S and ES and P) or (EN and S and  not ES and  not P) or (EN and S and ES and  not P) or ( not EN and S and ES and  not P) or (EN and  not S and ES and  not P) or (EN and S and  not ES and P) or ( not EN and  not S and ES and P) or (EN and S and ES and P)), P)\n",
      "\n",
      "The simple rulelist show the string rules in their boolean form; this conveys the same information as above.\n",
      "\n",
      "Simple rulelist\n",
      "[[(0, 0, 1, 0), (0, 1, 1, 1), (1, 0, 1, 1), (1, 1, 1, 0), (0, 1, 1, 0), (1, 0, 1, 0), (0, 0, 1, 1), (1, 1, 1, 1)], [(0, 0, 1, 0), (0, 1, 1, 1), (1, 0, 1, 1), (1, 1, 1, 0), (0, 1, 1, 0), (1, 0, 1, 0), (1, 1, 0, 1), (0, 0, 1, 1), (1, 1, 1, 1)], [(1, 0, 1, 1), (1, 1, 0, 0), (1, 1, 1, 0), (1, 1, 0, 1), (1, 1, 1, 1)], [(0, 0, 1, 0), (0, 1, 1, 1), (1, 0, 1, 1), (1, 1, 0, 0), (1, 1, 1, 0), (0, 1, 1, 0), (1, 0, 1, 0), (1, 1, 0, 1), (0, 0, 1, 1), (1, 1, 1, 1)]]\n"
     ]
    }
   ],
   "source": [
    "print('The string rules describe the full ruleset in formal logical terms, showing what states can activate that species.')\n",
    "print('\\nString rules:')\n",
    "print(str_rules)\n",
    "\n",
    "print('The simple rulelist show the string rules in their boolean form; this conveys the same information as above.')\n",
    "print('\\nSimple rulelist')\n",
    "print(simple_rulelist)"
   ]
  },
  {
   "cell_type": "markdown",
   "metadata": {},
   "source": [
    "\n",
    "With the input variable backwardspath set as 1, we generate the network with all possible backwards paths available\n",
    "for transitions. The simple rulelist output describes the resulting network. The example below (from Figure 3) shows the network formed with the initial state [1,1,0,0].\n",
    "\n",
    "\n",
    "![alt text](fig1b.jpg \"ES-B Network\")"
   ]
  },
  {
   "cell_type": "markdown",
   "metadata": {},
   "source": [
    "### Generating simplified rules from manuscript"
   ]
  },
  {
   "cell_type": "markdown",
   "metadata": {},
   "source": [
    "In order to simplify the rules further using Sympy, the string rules must first be converted to formal logic notation"
   ]
  },
  {
   "cell_type": "code",
   "execution_count": 141,
   "metadata": {},
   "outputs": [
    {
     "name": "stdout",
     "output_type": "stream",
     "text": [
      "[[' EN*', ' Xor((( ~EN &  ~S & ES &  ~P) | ( ~EN & S & ES & P) | (EN &  ~S & ES & P) | (EN & S & ES &  ~P) | ( ~EN & S & ES &  ~P) | (EN &  ~S & ES &  ~P) | ( ~EN &  ~S & ES & P) | (EN & S & ES & P)), EN)'], [' S*', ' Xor((( ~EN &  ~S & ES &  ~P) | ( ~EN & S & ES & P) | (EN &  ~S & ES & P) | (EN & S & ES &  ~P) | ( ~EN & S & ES &  ~P) | (EN &  ~S & ES &  ~P) | (EN & S &  ~ES & P) | ( ~EN &  ~S & ES & P) | (EN & S & ES & P)), S)'], [' ES*', ' Xor(((EN &  ~S & ES & P) | (EN & S &  ~ES &  ~P) | (EN & S & ES &  ~P) | (EN & S &  ~ES & P) | (EN & S & ES & P)), ES)'], [' P*', ' Xor((( ~EN &  ~S & ES &  ~P) | ( ~EN & S & ES & P) | (EN &  ~S & ES & P) | (EN & S &  ~ES &  ~P) | (EN & S & ES &  ~P) | ( ~EN & S & ES &  ~P) | (EN &  ~S & ES &  ~P) | (EN & S &  ~ES & P) | ( ~EN &  ~S & ES & P) | (EN & S & ES & P)), P)']]\n"
     ]
    }
   ],
   "source": [
    "str_rules_list = str_rules.split('\\n')\n",
    "count = 0\n",
    "for n in str_rules_list:\n",
    "    str_rules_list[count] = n.strip('1:')\n",
    "    count +=1\n",
    "sympy_ipnut = []\n",
    "for k in range(4):\n",
    "    sympy_input.append(str(str_rules_list[k]).replace('and','&').replace('or','|').replace('not ','~').replace('X|','Xor').split(' ='))\n",
    "print(rules_formal) "
   ]
  },
  {
   "cell_type": "markdown",
   "metadata": {},
   "source": [
    "Using Sympy to simplify the Xor statement for each species yields the rules for the ES-B network as seen in the paper"
   ]
  },
  {
   "cell_type": "code",
   "execution_count": 154,
   "metadata": {},
   "outputs": [
    {
     "name": "stdout",
     "output_type": "stream",
     "text": [
      "Rules after simplifcation with Sympy\n",
      "EN*= EN ^ ES\n",
      "S*= S ^ (ES | (EN & P & S))\n",
      "ES*= ES ^ (EN & (ES | S) & (P | S))\n",
      "P*= P ^ (ES | (EN & S))\n"
     ]
    }
   ],
   "source": [
    "print('Rules after simplifcation with Sympy')\n",
    "print('EN*= ' + str(sympy.simplify(Xor((( ~EN &  ~S & ES &  ~P) | ( ~EN & S & ES & P) | (EN &  ~S & ES & P) | (EN & S & ES &  ~P) | ( ~EN & S & ES &  ~P) | (EN &  ~S & ES &  ~P) | ( ~EN &  ~S & ES & P) | (EN & S & ES & P)), EN))))\n",
    "print('S*= ' + str(sympy.simplify(Xor((( ~EN &  ~S & ES &  ~P) | ( ~EN & S & ES & P) | (EN &  ~S & ES & P) | (EN & S & ES &  ~P) | ( ~EN & S & ES &  ~P) | (EN &  ~S & ES &  ~P) | (EN & S &  ~ES & P) | ( ~EN &  ~S & ES & P) | (EN & S & ES & P)), S))))\n",
    "print('ES*= ' + str(sympy.simplify(Xor(((EN &  ~S & ES & P) | (EN & S &  ~ES &  ~P) | (EN & S & ES &  ~P) | (EN & S &  ~ES & P) | (EN & S & ES & P)), ES))))\n",
    "print('P*= ' + str(sympy.simplify(Xor((( ~EN &  ~S & ES &  ~P) | ( ~EN & S & ES & P) | (EN &  ~S & ES & P) | (EN & S &  ~ES &  ~P) | (EN & S & ES &  ~P) | ( ~EN & S & ES &  ~P) | (EN &  ~S & ES &  ~P) | (EN & S &  ~ES & P) | ( ~EN &  ~S & ES & P) | (EN & S & ES & P)), P))))"
   ]
  }
 ],
 "metadata": {
  "kernelspec": {
   "name": "python388jvsc74a57bd008f59346e0a0df533f17280de9def8b6d2bce0215a4f4535d159dfeb1f9338e0",
   "display_name": "Python 3.8.8 64-bit ('R4': conda)"
  },
  "language_info": {
   "codemirror_mode": {
    "name": "ipython",
    "version": 3
   },
   "file_extension": ".py",
   "mimetype": "text/x-python",
   "name": "python",
   "nbconvert_exporter": "python",
   "pygments_lexer": "ipython3",
   "version": "3.8.8-final"
  },
  "metadata": {
   "interpreter": {
    "hash": "08f59346e0a0df533f17280de9def8b6d2bce0215a4f4535d159dfeb1f9338e0"
   }
  }
 },
 "nbformat": 4,
 "nbformat_minor": 4
}